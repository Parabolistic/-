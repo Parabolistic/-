{
  "nbformat": 4,
  "nbformat_minor": 0,
  "metadata": {
    "colab": {
      "name": "Бригада №11.ipynb",
      "provenance": [],
      "collapsed_sections": [],
      "include_colab_link": true
    },
    "kernelspec": {
      "name": "python3",
      "display_name": "Python 3"
    }
  },
  "cells": [
    {
      "cell_type": "markdown",
      "metadata": {
        "id": "view-in-github",
        "colab_type": "text"
      },
      "source": [
        "<a href=\"https://colab.research.google.com/github/Parabolistic/Learning/blob/master/%D0%91%D1%80%D0%B8%D0%B3%D0%B0%D0%B4%D0%B0_%E2%84%9611.ipynb\" target=\"_parent\"><img src=\"https://colab.research.google.com/assets/colab-badge.svg\" alt=\"Open In Colab\"/></a>"
      ]
    },
    {
      "cell_type": "code",
      "metadata": {
        "id": "6HTk5JwTKzlF",
        "colab_type": "code",
        "colab": {}
      },
      "source": [
        ""
      ],
      "execution_count": 0,
      "outputs": []
    },
    {
      "cell_type": "markdown",
      "metadata": {
        "id": "sf8zgIWBLBY-",
        "colab_type": "text"
      },
      "source": [
        "# Первый блокнот\n",
        "Первый учебный блокнот в Google Colab. Список группы:\n",
        "- Сергеев\n",
        "- Сороковиков"
      ]
    },
    {
      "cell_type": "markdown",
      "metadata": {
        "id": "4SHEQ8NvNSxZ",
        "colab_type": "text"
      },
      "source": [
        "![alt text](https://helperia.ru/public/images/articles/3/3f/Logo_NSTU.jpg)"
      ]
    },
    {
      "cell_type": "markdown",
      "metadata": {
        "id": "yBXQp1MYQbCL",
        "colab_type": "text"
      },
      "source": [
        "|Фамилия|Имя|\n",
        "|:-----:|:-----:|\n",
        "|Сергеев|Никита|\n",
        "|Сороковиков|Андрей| "
      ]
    },
    {
      "cell_type": "markdown",
      "metadata": {
        "id": "FAGWd834TRfT",
        "colab_type": "text"
      },
      "source": [
        "Вот [тут](https://www.youtube.com/channel/UC9A_XM5i836MXE0b28gdbcQ) мы смотрим наши лекции."
      ]
    }
  ]
}