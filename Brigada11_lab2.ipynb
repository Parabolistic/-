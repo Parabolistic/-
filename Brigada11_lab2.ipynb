{
  "nbformat": 4,
  "nbformat_minor": 0,
  "metadata": {
    "colab": {
      "name": "Brigada11_lab2.ipynb",
      "provenance": [],
      "collapsed_sections": [],
      "include_colab_link": true
    },
    "kernelspec": {
      "name": "python3",
      "display_name": "Python 3"
    }
  },
  "cells": [
    {
      "cell_type": "markdown",
      "metadata": {
        "id": "view-in-github",
        "colab_type": "text"
      },
      "source": [
        "<a href=\"https://colab.research.google.com/github/Parabolistic/Learning/blob/master/Brigada11_lab2.ipynb\" target=\"_parent\"><img src=\"https://colab.research.google.com/assets/colab-badge.svg\" alt=\"Open In Colab\"/></a>"
      ]
    },
    {
      "cell_type": "markdown",
      "metadata": {
        "id": "-anpX1nn-Ban",
        "colab_type": "text"
      },
      "source": [
        "**1. Подключение библиотек**"
      ]
    },
    {
      "cell_type": "code",
      "metadata": {
        "id": "O6uxjpmj-KH8",
        "colab_type": "code",
        "colab": {}
      },
      "source": [
        "import pandas as pd     # для чтения и записи табличных файлов\n",
        "import numpy as np      # для математической обработки данных\n",
        "import matplotlib.pyplot as plt # для построения графиков\n",
        "import matplotlib.ticker as ticker # для управления делениями осей"
      ],
      "execution_count": 0,
      "outputs": []
    },
    {
      "cell_type": "markdown",
      "metadata": {
        "id": "QnKvMqk1-MKQ",
        "colab_type": "text"
      },
      "source": [
        "**2. Чтение данных**"
      ]
    },
    {
      "cell_type": "code",
      "metadata": {
        "id": "BKd3wZkh_geT",
        "colab_type": "code",
        "outputId": "33d9857e-97a4-4308-f1bb-f35f7f899b66",
        "colab": {
          "base_uri": "https://localhost:8080/",
          "height": 204
        }
      },
      "source": [
        "#исходный файл https://drive.google.com/file/d/1ZdeDADIL2HrYa8fcfXCSMT7RtxiZ5x-9/view\n",
        " \n",
        "url = \"https://drive.google.com/uc?export=download&id=1ZdeDADIL2HrYa8fcfXCSMT7RtxiZ5x-9\"\n",
        "input_df = pd.read_table(url, sep = '\\t',  header=None, decimal=',') \n",
        "input_df.head()"
      ],
      "execution_count": 0,
      "outputs": [
        {
          "output_type": "execute_result",
          "data": {
            "text/html": [
              "<div>\n",
              "<style scoped>\n",
              "    .dataframe tbody tr th:only-of-type {\n",
              "        vertical-align: middle;\n",
              "    }\n",
              "\n",
              "    .dataframe tbody tr th {\n",
              "        vertical-align: top;\n",
              "    }\n",
              "\n",
              "    .dataframe thead th {\n",
              "        text-align: right;\n",
              "    }\n",
              "</style>\n",
              "<table border=\"1\" class=\"dataframe\">\n",
              "  <thead>\n",
              "    <tr style=\"text-align: right;\">\n",
              "      <th></th>\n",
              "      <th>0</th>\n",
              "      <th>1</th>\n",
              "    </tr>\n",
              "  </thead>\n",
              "  <tbody>\n",
              "    <tr>\n",
              "      <th>0</th>\n",
              "      <td>1</td>\n",
              "      <td>27.409649</td>\n",
              "    </tr>\n",
              "    <tr>\n",
              "      <th>1</th>\n",
              "      <td>2</td>\n",
              "      <td>17.518286</td>\n",
              "    </tr>\n",
              "    <tr>\n",
              "      <th>2</th>\n",
              "      <td>3</td>\n",
              "      <td>16.460181</td>\n",
              "    </tr>\n",
              "    <tr>\n",
              "      <th>3</th>\n",
              "      <td>4</td>\n",
              "      <td>15.910253</td>\n",
              "    </tr>\n",
              "    <tr>\n",
              "      <th>4</th>\n",
              "      <td>5</td>\n",
              "      <td>13.604618</td>\n",
              "    </tr>\n",
              "  </tbody>\n",
              "</table>\n",
              "</div>"
            ],
            "text/plain": [
              "   0          1\n",
              "0  1  27.409649\n",
              "1  2  17.518286\n",
              "2  3  16.460181\n",
              "3  4  15.910253\n",
              "4  5  13.604618"
            ]
          },
          "metadata": {
            "tags": []
          },
          "execution_count": 2
        }
      ]
    },
    {
      "cell_type": "code",
      "metadata": {
        "id": "KJbZlNdrEbou",
        "colab_type": "code",
        "outputId": "40667d88-ade9-4e05-c8f1-8b05a903d108",
        "colab": {
          "base_uri": "https://localhost:8080/",
          "height": 204
        }
      },
      "source": [
        "input_df.tail()"
      ],
      "execution_count": 0,
      "outputs": [
        {
          "output_type": "execute_result",
          "data": {
            "text/html": [
              "<div>\n",
              "<style scoped>\n",
              "    .dataframe tbody tr th:only-of-type {\n",
              "        vertical-align: middle;\n",
              "    }\n",
              "\n",
              "    .dataframe tbody tr th {\n",
              "        vertical-align: top;\n",
              "    }\n",
              "\n",
              "    .dataframe thead th {\n",
              "        text-align: right;\n",
              "    }\n",
              "</style>\n",
              "<table border=\"1\" class=\"dataframe\">\n",
              "  <thead>\n",
              "    <tr style=\"text-align: right;\">\n",
              "      <th></th>\n",
              "      <th>0</th>\n",
              "      <th>1</th>\n",
              "    </tr>\n",
              "  </thead>\n",
              "  <tbody>\n",
              "    <tr>\n",
              "      <th>91</th>\n",
              "      <td>116</td>\n",
              "      <td>12.998751</td>\n",
              "    </tr>\n",
              "    <tr>\n",
              "      <th>92</th>\n",
              "      <td>117</td>\n",
              "      <td>13.520172</td>\n",
              "    </tr>\n",
              "    <tr>\n",
              "      <th>93</th>\n",
              "      <td>118</td>\n",
              "      <td>15.517817</td>\n",
              "    </tr>\n",
              "    <tr>\n",
              "      <th>94</th>\n",
              "      <td>119</td>\n",
              "      <td>24.032706</td>\n",
              "    </tr>\n",
              "    <tr>\n",
              "      <th>95</th>\n",
              "      <td>120</td>\n",
              "      <td>29.846246</td>\n",
              "    </tr>\n",
              "  </tbody>\n",
              "</table>\n",
              "</div>"
            ],
            "text/plain": [
              "      0          1\n",
              "91  116  12.998751\n",
              "92  117  13.520172\n",
              "93  118  15.517817\n",
              "94  119  24.032706\n",
              "95  120  29.846246"
            ]
          },
          "metadata": {
            "tags": []
          },
          "execution_count": 3
        }
      ]
    },
    {
      "cell_type": "markdown",
      "metadata": {
        "id": "ouv_bs9CHMTM",
        "colab_type": "text"
      },
      "source": [
        "**3. График**"
      ]
    },
    {
      "cell_type": "code",
      "metadata": {
        "id": "HN562SLWHOgi",
        "colab_type": "code",
        "outputId": "340bbca5-d757-4956-edb5-dbba5f10c038",
        "colab": {
          "base_uri": "https://localhost:8080/",
          "height": 434
        }
      },
      "source": [
        "pamir = input_df.iloc[: , 1].values \n",
        "\n",
        "from bokeh.plotting import figure, output_file, show\n",
        "from bokeh.io import output_notebook\n",
        " \n",
        "output_notebook()\n",
        " \n",
        "p = figure(plot_width = 800, plot_height = 400)\n",
        " \n",
        "p.line(np.arange(len(pamir)), pamir, line_width = 2)\n",
        "p.scatter(np.arange(len(pamir)), pamir)\n",
        "p.xaxis.axis_label = 'Время'\n",
        "p.yaxis.axis_label = 'Потребление'\n",
        " \n",
        "show(p)\n",
        "\n",
        "#сохранение графика\n",
        "plt.savefig('pamir')\n",
        "data_frame = pd.DataFrame(pamir)\n",
        "data_frame.to_csv('pamir.csv', index = False, header = ['average_monthly_consumption_chart'])"
      ],
      "execution_count": 0,
      "outputs": [
        {
          "output_type": "display_data",
          "data": {
            "application/javascript": [
              "\n",
              "(function(root) {\n",
              "  function now() {\n",
              "    return new Date();\n",
              "  }\n",
              "\n",
              "  var force = true;\n",
              "\n",
              "  if (typeof root._bokeh_onload_callbacks === \"undefined\" || force === true) {\n",
              "    root._bokeh_onload_callbacks = [];\n",
              "    root._bokeh_is_loading = undefined;\n",
              "  }\n",
              "\n",
              "  var JS_MIME_TYPE = 'application/javascript';\n",
              "  var HTML_MIME_TYPE = 'text/html';\n",
              "  var EXEC_MIME_TYPE = 'application/vnd.bokehjs_exec.v0+json';\n",
              "  var CLASS_NAME = 'output_bokeh rendered_html';\n",
              "\n",
              "  /**\n",
              "   * Render data to the DOM node\n",
              "   */\n",
              "  function render(props, node) {\n",
              "    var script = document.createElement(\"script\");\n",
              "    node.appendChild(script);\n",
              "  }\n",
              "\n",
              "  /**\n",
              "   * Handle when an output is cleared or removed\n",
              "   */\n",
              "  function handleClearOutput(event, handle) {\n",
              "    var cell = handle.cell;\n",
              "\n",
              "    var id = cell.output_area._bokeh_element_id;\n",
              "    var server_id = cell.output_area._bokeh_server_id;\n",
              "    // Clean up Bokeh references\n",
              "    if (id != null && id in Bokeh.index) {\n",
              "      Bokeh.index[id].model.document.clear();\n",
              "      delete Bokeh.index[id];\n",
              "    }\n",
              "\n",
              "    if (server_id !== undefined) {\n",
              "      // Clean up Bokeh references\n",
              "      var cmd = \"from bokeh.io.state import curstate; print(curstate().uuid_to_server['\" + server_id + \"'].get_sessions()[0].document.roots[0]._id)\";\n",
              "      cell.notebook.kernel.execute(cmd, {\n",
              "        iopub: {\n",
              "          output: function(msg) {\n",
              "            var id = msg.content.text.trim();\n",
              "            if (id in Bokeh.index) {\n",
              "              Bokeh.index[id].model.document.clear();\n",
              "              delete Bokeh.index[id];\n",
              "            }\n",
              "          }\n",
              "        }\n",
              "      });\n",
              "      // Destroy server and session\n",
              "      var cmd = \"import bokeh.io.notebook as ion; ion.destroy_server('\" + server_id + \"')\";\n",
              "      cell.notebook.kernel.execute(cmd);\n",
              "    }\n",
              "  }\n",
              "\n",
              "  /**\n",
              "   * Handle when a new output is added\n",
              "   */\n",
              "  function handleAddOutput(event, handle) {\n",
              "    var output_area = handle.output_area;\n",
              "    var output = handle.output;\n",
              "\n",
              "    // limit handleAddOutput to display_data with EXEC_MIME_TYPE content only\n",
              "    if ((output.output_type != \"display_data\") || (!output.data.hasOwnProperty(EXEC_MIME_TYPE))) {\n",
              "      return\n",
              "    }\n",
              "\n",
              "    var toinsert = output_area.element.find(\".\" + CLASS_NAME.split(' ')[0]);\n",
              "\n",
              "    if (output.metadata[EXEC_MIME_TYPE][\"id\"] !== undefined) {\n",
              "      toinsert[toinsert.length - 1].firstChild.textContent = output.data[JS_MIME_TYPE];\n",
              "      // store reference to embed id on output_area\n",
              "      output_area._bokeh_element_id = output.metadata[EXEC_MIME_TYPE][\"id\"];\n",
              "    }\n",
              "    if (output.metadata[EXEC_MIME_TYPE][\"server_id\"] !== undefined) {\n",
              "      var bk_div = document.createElement(\"div\");\n",
              "      bk_div.innerHTML = output.data[HTML_MIME_TYPE];\n",
              "      var script_attrs = bk_div.children[0].attributes;\n",
              "      for (var i = 0; i < script_attrs.length; i++) {\n",
              "        toinsert[toinsert.length - 1].firstChild.setAttribute(script_attrs[i].name, script_attrs[i].value);\n",
              "      }\n",
              "      // store reference to server id on output_area\n",
              "      output_area._bokeh_server_id = output.metadata[EXEC_MIME_TYPE][\"server_id\"];\n",
              "    }\n",
              "  }\n",
              "\n",
              "  function register_renderer(events, OutputArea) {\n",
              "\n",
              "    function append_mime(data, metadata, element) {\n",
              "      // create a DOM node to render to\n",
              "      var toinsert = this.create_output_subarea(\n",
              "        metadata,\n",
              "        CLASS_NAME,\n",
              "        EXEC_MIME_TYPE\n",
              "      );\n",
              "      this.keyboard_manager.register_events(toinsert);\n",
              "      // Render to node\n",
              "      var props = {data: data, metadata: metadata[EXEC_MIME_TYPE]};\n",
              "      render(props, toinsert[toinsert.length - 1]);\n",
              "      element.append(toinsert);\n",
              "      return toinsert\n",
              "    }\n",
              "\n",
              "    /* Handle when an output is cleared or removed */\n",
              "    events.on('clear_output.CodeCell', handleClearOutput);\n",
              "    events.on('delete.Cell', handleClearOutput);\n",
              "\n",
              "    /* Handle when a new output is added */\n",
              "    events.on('output_added.OutputArea', handleAddOutput);\n",
              "\n",
              "    /**\n",
              "     * Register the mime type and append_mime function with output_area\n",
              "     */\n",
              "    OutputArea.prototype.register_mime_type(EXEC_MIME_TYPE, append_mime, {\n",
              "      /* Is output safe? */\n",
              "      safe: true,\n",
              "      /* Index of renderer in `output_area.display_order` */\n",
              "      index: 0\n",
              "    });\n",
              "  }\n",
              "\n",
              "  // register the mime type if in Jupyter Notebook environment and previously unregistered\n",
              "  if (root.Jupyter !== undefined) {\n",
              "    var events = require('base/js/events');\n",
              "    var OutputArea = require('notebook/js/outputarea').OutputArea;\n",
              "\n",
              "    if (OutputArea.prototype.mime_types().indexOf(EXEC_MIME_TYPE) == -1) {\n",
              "      register_renderer(events, OutputArea);\n",
              "    }\n",
              "  }\n",
              "\n",
              "  \n",
              "  if (typeof (root._bokeh_timeout) === \"undefined\" || force === true) {\n",
              "    root._bokeh_timeout = Date.now() + 5000;\n",
              "    root._bokeh_failed_load = false;\n",
              "  }\n",
              "\n",
              "  var NB_LOAD_WARNING = {'data': {'text/html':\n",
              "     \"<div style='background-color: #fdd'>\\n\"+\n",
              "     \"<p>\\n\"+\n",
              "     \"BokehJS does not appear to have successfully loaded. If loading BokehJS from CDN, this \\n\"+\n",
              "     \"may be due to a slow or bad network connection. Possible fixes:\\n\"+\n",
              "     \"</p>\\n\"+\n",
              "     \"<ul>\\n\"+\n",
              "     \"<li>re-rerun `output_notebook()` to attempt to load from CDN again, or</li>\\n\"+\n",
              "     \"<li>use INLINE resources instead, as so:</li>\\n\"+\n",
              "     \"</ul>\\n\"+\n",
              "     \"<code>\\n\"+\n",
              "     \"from bokeh.resources import INLINE\\n\"+\n",
              "     \"output_notebook(resources=INLINE)\\n\"+\n",
              "     \"</code>\\n\"+\n",
              "     \"</div>\"}};\n",
              "\n",
              "  function display_loaded() {\n",
              "    var el = document.getElementById(null);\n",
              "    if (el != null) {\n",
              "      el.textContent = \"BokehJS is loading...\";\n",
              "    }\n",
              "    if (root.Bokeh !== undefined) {\n",
              "      if (el != null) {\n",
              "        el.textContent = \"BokehJS \" + root.Bokeh.version + \" successfully loaded.\";\n",
              "      }\n",
              "    } else if (Date.now() < root._bokeh_timeout) {\n",
              "      setTimeout(display_loaded, 100)\n",
              "    }\n",
              "  }\n",
              "\n",
              "\n",
              "  function run_callbacks() {\n",
              "    try {\n",
              "      root._bokeh_onload_callbacks.forEach(function(callback) {\n",
              "        if (callback != null)\n",
              "          callback();\n",
              "      });\n",
              "    } finally {\n",
              "      delete root._bokeh_onload_callbacks\n",
              "    }\n",
              "    console.debug(\"Bokeh: all callbacks have finished\");\n",
              "  }\n",
              "\n",
              "  function load_libs(css_urls, js_urls, callback) {\n",
              "    if (css_urls == null) css_urls = [];\n",
              "    if (js_urls == null) js_urls = [];\n",
              "\n",
              "    root._bokeh_onload_callbacks.push(callback);\n",
              "    if (root._bokeh_is_loading > 0) {\n",
              "      console.debug(\"Bokeh: BokehJS is being loaded, scheduling callback at\", now());\n",
              "      return null;\n",
              "    }\n",
              "    if (js_urls == null || js_urls.length === 0) {\n",
              "      run_callbacks();\n",
              "      return null;\n",
              "    }\n",
              "    console.debug(\"Bokeh: BokehJS not loaded, scheduling load and callback at\", now());\n",
              "    root._bokeh_is_loading = css_urls.length + js_urls.length;\n",
              "\n",
              "    function on_load() {\n",
              "      root._bokeh_is_loading--;\n",
              "      if (root._bokeh_is_loading === 0) {\n",
              "        console.debug(\"Bokeh: all BokehJS libraries/stylesheets loaded\");\n",
              "        run_callbacks()\n",
              "      }\n",
              "    }\n",
              "\n",
              "    function on_error() {\n",
              "      console.error(\"failed to load \" + url);\n",
              "    }\n",
              "\n",
              "    for (var i = 0; i < css_urls.length; i++) {\n",
              "      var url = css_urls[i];\n",
              "      const element = document.createElement(\"link\");\n",
              "      element.onload = on_load;\n",
              "      element.onerror = on_error;\n",
              "      element.rel = \"stylesheet\";\n",
              "      element.type = \"text/css\";\n",
              "      element.href = url;\n",
              "      console.debug(\"Bokeh: injecting link tag for BokehJS stylesheet: \", url);\n",
              "      document.body.appendChild(element);\n",
              "    }\n",
              "\n",
              "    for (var i = 0; i < js_urls.length; i++) {\n",
              "      var url = js_urls[i];\n",
              "      var element = document.createElement('script');\n",
              "      element.onload = on_load;\n",
              "      element.onerror = on_error;\n",
              "      element.async = false;\n",
              "      element.src = url;\n",
              "      console.debug(\"Bokeh: injecting script tag for BokehJS library: \", url);\n",
              "      document.head.appendChild(element);\n",
              "    }\n",
              "  };\n",
              "\n",
              "  function inject_raw_css(css) {\n",
              "    const element = document.createElement(\"style\");\n",
              "    element.appendChild(document.createTextNode(css));\n",
              "    document.body.appendChild(element);\n",
              "  }\n",
              "\n",
              "  \n",
              "  var js_urls = [\"https://cdn.pydata.org/bokeh/release/bokeh-1.4.0.min.js\", \"https://cdn.pydata.org/bokeh/release/bokeh-widgets-1.4.0.min.js\", \"https://cdn.pydata.org/bokeh/release/bokeh-tables-1.4.0.min.js\", \"https://cdn.pydata.org/bokeh/release/bokeh-gl-1.4.0.min.js\"];\n",
              "  var css_urls = [];\n",
              "  \n",
              "\n",
              "  var inline_js = [\n",
              "    function(Bokeh) {\n",
              "      Bokeh.set_log_level(\"info\");\n",
              "    },\n",
              "    function(Bokeh) {\n",
              "    \n",
              "    \n",
              "    }\n",
              "  ];\n",
              "\n",
              "  function run_inline_js() {\n",
              "    \n",
              "    if (root.Bokeh !== undefined || force === true) {\n",
              "      \n",
              "    for (var i = 0; i < inline_js.length; i++) {\n",
              "      inline_js[i].call(root, root.Bokeh);\n",
              "    }\n",
              "    } else if (Date.now() < root._bokeh_timeout) {\n",
              "      setTimeout(run_inline_js, 100);\n",
              "    } else if (!root._bokeh_failed_load) {\n",
              "      console.log(\"Bokeh: BokehJS failed to load within specified timeout.\");\n",
              "      root._bokeh_failed_load = true;\n",
              "    } else if (force !== true) {\n",
              "      var cell = $(document.getElementById(null)).parents('.cell').data().cell;\n",
              "      cell.output_area.append_execute_result(NB_LOAD_WARNING)\n",
              "    }\n",
              "\n",
              "  }\n",
              "\n",
              "  if (root._bokeh_is_loading === 0) {\n",
              "    console.debug(\"Bokeh: BokehJS loaded, going straight to plotting\");\n",
              "    run_inline_js();\n",
              "  } else {\n",
              "    load_libs(css_urls, js_urls, function() {\n",
              "      console.debug(\"Bokeh: BokehJS plotting callback run at\", now());\n",
              "      run_inline_js();\n",
              "    });\n",
              "  }\n",
              "}(window));"
            ],
            "application/vnd.bokehjs_load.v0+json": "\n(function(root) {\n  function now() {\n    return new Date();\n  }\n\n  var force = true;\n\n  if (typeof root._bokeh_onload_callbacks === \"undefined\" || force === true) {\n    root._bokeh_onload_callbacks = [];\n    root._bokeh_is_loading = undefined;\n  }\n\n  \n\n  \n  if (typeof (root._bokeh_timeout) === \"undefined\" || force === true) {\n    root._bokeh_timeout = Date.now() + 5000;\n    root._bokeh_failed_load = false;\n  }\n\n  var NB_LOAD_WARNING = {'data': {'text/html':\n     \"<div style='background-color: #fdd'>\\n\"+\n     \"<p>\\n\"+\n     \"BokehJS does not appear to have successfully loaded. If loading BokehJS from CDN, this \\n\"+\n     \"may be due to a slow or bad network connection. Possible fixes:\\n\"+\n     \"</p>\\n\"+\n     \"<ul>\\n\"+\n     \"<li>re-rerun `output_notebook()` to attempt to load from CDN again, or</li>\\n\"+\n     \"<li>use INLINE resources instead, as so:</li>\\n\"+\n     \"</ul>\\n\"+\n     \"<code>\\n\"+\n     \"from bokeh.resources import INLINE\\n\"+\n     \"output_notebook(resources=INLINE)\\n\"+\n     \"</code>\\n\"+\n     \"</div>\"}};\n\n  function display_loaded() {\n    var el = document.getElementById(null);\n    if (el != null) {\n      el.textContent = \"BokehJS is loading...\";\n    }\n    if (root.Bokeh !== undefined) {\n      if (el != null) {\n        el.textContent = \"BokehJS \" + root.Bokeh.version + \" successfully loaded.\";\n      }\n    } else if (Date.now() < root._bokeh_timeout) {\n      setTimeout(display_loaded, 100)\n    }\n  }\n\n\n  function run_callbacks() {\n    try {\n      root._bokeh_onload_callbacks.forEach(function(callback) {\n        if (callback != null)\n          callback();\n      });\n    } finally {\n      delete root._bokeh_onload_callbacks\n    }\n    console.debug(\"Bokeh: all callbacks have finished\");\n  }\n\n  function load_libs(css_urls, js_urls, callback) {\n    if (css_urls == null) css_urls = [];\n    if (js_urls == null) js_urls = [];\n\n    root._bokeh_onload_callbacks.push(callback);\n    if (root._bokeh_is_loading > 0) {\n      console.debug(\"Bokeh: BokehJS is being loaded, scheduling callback at\", now());\n      return null;\n    }\n    if (js_urls == null || js_urls.length === 0) {\n      run_callbacks();\n      return null;\n    }\n    console.debug(\"Bokeh: BokehJS not loaded, scheduling load and callback at\", now());\n    root._bokeh_is_loading = css_urls.length + js_urls.length;\n\n    function on_load() {\n      root._bokeh_is_loading--;\n      if (root._bokeh_is_loading === 0) {\n        console.debug(\"Bokeh: all BokehJS libraries/stylesheets loaded\");\n        run_callbacks()\n      }\n    }\n\n    function on_error() {\n      console.error(\"failed to load \" + url);\n    }\n\n    for (var i = 0; i < css_urls.length; i++) {\n      var url = css_urls[i];\n      const element = document.createElement(\"link\");\n      element.onload = on_load;\n      element.onerror = on_error;\n      element.rel = \"stylesheet\";\n      element.type = \"text/css\";\n      element.href = url;\n      console.debug(\"Bokeh: injecting link tag for BokehJS stylesheet: \", url);\n      document.body.appendChild(element);\n    }\n\n    for (var i = 0; i < js_urls.length; i++) {\n      var url = js_urls[i];\n      var element = document.createElement('script');\n      element.onload = on_load;\n      element.onerror = on_error;\n      element.async = false;\n      element.src = url;\n      console.debug(\"Bokeh: injecting script tag for BokehJS library: \", url);\n      document.head.appendChild(element);\n    }\n  };\n\n  function inject_raw_css(css) {\n    const element = document.createElement(\"style\");\n    element.appendChild(document.createTextNode(css));\n    document.body.appendChild(element);\n  }\n\n  \n  var js_urls = [\"https://cdn.pydata.org/bokeh/release/bokeh-1.4.0.min.js\", \"https://cdn.pydata.org/bokeh/release/bokeh-widgets-1.4.0.min.js\", \"https://cdn.pydata.org/bokeh/release/bokeh-tables-1.4.0.min.js\", \"https://cdn.pydata.org/bokeh/release/bokeh-gl-1.4.0.min.js\"];\n  var css_urls = [];\n  \n\n  var inline_js = [\n    function(Bokeh) {\n      Bokeh.set_log_level(\"info\");\n    },\n    function(Bokeh) {\n    \n    \n    }\n  ];\n\n  function run_inline_js() {\n    \n    if (root.Bokeh !== undefined || force === true) {\n      \n    for (var i = 0; i < inline_js.length; i++) {\n      inline_js[i].call(root, root.Bokeh);\n    }\n    } else if (Date.now() < root._bokeh_timeout) {\n      setTimeout(run_inline_js, 100);\n    } else if (!root._bokeh_failed_load) {\n      console.log(\"Bokeh: BokehJS failed to load within specified timeout.\");\n      root._bokeh_failed_load = true;\n    } else if (force !== true) {\n      var cell = $(document.getElementById(null)).parents('.cell').data().cell;\n      cell.output_area.append_execute_result(NB_LOAD_WARNING)\n    }\n\n  }\n\n  if (root._bokeh_is_loading === 0) {\n    console.debug(\"Bokeh: BokehJS loaded, going straight to plotting\");\n    run_inline_js();\n  } else {\n    load_libs(css_urls, js_urls, function() {\n      console.debug(\"Bokeh: BokehJS plotting callback run at\", now());\n      run_inline_js();\n    });\n  }\n}(window));"
          },
          "metadata": {
            "tags": []
          }
        },
        {
          "output_type": "display_data",
          "data": {
            "text/html": [
              "\n",
              "\n",
              "\n",
              "\n",
              "\n",
              "\n",
              "  <div class=\"bk-root\" id=\"d42fba93-d084-41eb-bcba-a29c4fdbea36\" data-root-id=\"2065\"></div>\n"
            ]
          },
          "metadata": {
            "tags": []
          }
        },
        {
          "output_type": "display_data",
          "data": {
            "application/javascript": [
              "(function(root) {\n",
              "  function embed_document(root) {\n",
              "    \n",
              "  var docs_json = {\"5864a871-88a9-427d-a241-cca0c57c4e38\":{\"roots\":{\"references\":[{\"attributes\":{\"below\":[{\"id\":\"2074\",\"type\":\"LinearAxis\"}],\"center\":[{\"id\":\"2078\",\"type\":\"Grid\"},{\"id\":\"2083\",\"type\":\"Grid\"}],\"left\":[{\"id\":\"2079\",\"type\":\"LinearAxis\"}],\"plot_height\":400,\"plot_width\":800,\"renderers\":[{\"id\":\"2100\",\"type\":\"GlyphRenderer\"},{\"id\":\"2105\",\"type\":\"GlyphRenderer\"}],\"title\":{\"id\":\"2185\",\"type\":\"Title\"},\"toolbar\":{\"id\":\"2090\",\"type\":\"Toolbar\"},\"x_range\":{\"id\":\"2066\",\"type\":\"DataRange1d\"},\"x_scale\":{\"id\":\"2070\",\"type\":\"LinearScale\"},\"y_range\":{\"id\":\"2068\",\"type\":\"DataRange1d\"},\"y_scale\":{\"id\":\"2072\",\"type\":\"LinearScale\"}},\"id\":\"2065\",\"subtype\":\"Figure\",\"type\":\"Plot\"},{\"attributes\":{\"text\":\"\"},\"id\":\"2185\",\"type\":\"Title\"},{\"attributes\":{\"data_source\":{\"id\":\"2097\",\"type\":\"ColumnDataSource\"},\"glyph\":{\"id\":\"2098\",\"type\":\"Line\"},\"hover_glyph\":null,\"muted_glyph\":null,\"nonselection_glyph\":{\"id\":\"2099\",\"type\":\"Line\"},\"selection_glyph\":null,\"view\":{\"id\":\"2101\",\"type\":\"CDSView\"}},\"id\":\"2100\",\"type\":\"GlyphRenderer\"},{\"attributes\":{},\"id\":\"2186\",\"type\":\"BasicTickFormatter\"},{\"attributes\":{\"overlay\":{\"id\":\"2194\",\"type\":\"BoxAnnotation\"}},\"id\":\"2086\",\"type\":\"BoxZoomTool\"},{\"attributes\":{\"line_alpha\":0.1,\"line_color\":\"#1f77b4\",\"line_width\":2,\"x\":{\"field\":\"x\"},\"y\":{\"field\":\"y\"}},\"id\":\"2099\",\"type\":\"Line\"},{\"attributes\":{\"source\":{\"id\":\"2102\",\"type\":\"ColumnDataSource\"}},\"id\":\"2106\",\"type\":\"CDSView\"},{\"attributes\":{},\"id\":\"2192\",\"type\":\"Selection\"},{\"attributes\":{\"dimension\":1,\"ticker\":{\"id\":\"2080\",\"type\":\"BasicTicker\"}},\"id\":\"2083\",\"type\":\"Grid\"},{\"attributes\":{\"axis_label\":\"\\u041f\\u043e\\u0442\\u0440\\u0435\\u0431\\u043b\\u0435\\u043d\\u0438\\u0435\",\"formatter\":{\"id\":\"2186\",\"type\":\"BasicTickFormatter\"},\"ticker\":{\"id\":\"2080\",\"type\":\"BasicTicker\"}},\"id\":\"2079\",\"type\":\"LinearAxis\"},{\"attributes\":{\"active_drag\":\"auto\",\"active_inspect\":\"auto\",\"active_multi\":null,\"active_scroll\":\"auto\",\"active_tap\":\"auto\",\"tools\":[{\"id\":\"2084\",\"type\":\"PanTool\"},{\"id\":\"2085\",\"type\":\"WheelZoomTool\"},{\"id\":\"2086\",\"type\":\"BoxZoomTool\"},{\"id\":\"2087\",\"type\":\"SaveTool\"},{\"id\":\"2088\",\"type\":\"ResetTool\"},{\"id\":\"2089\",\"type\":\"HelpTool\"}]},\"id\":\"2090\",\"type\":\"Toolbar\"},{\"attributes\":{\"source\":{\"id\":\"2097\",\"type\":\"ColumnDataSource\"}},\"id\":\"2101\",\"type\":\"CDSView\"},{\"attributes\":{},\"id\":\"2193\",\"type\":\"UnionRenderers\"},{\"attributes\":{\"callback\":null},\"id\":\"2068\",\"type\":\"DataRange1d\"},{\"attributes\":{},\"id\":\"2088\",\"type\":\"ResetTool\"},{\"attributes\":{},\"id\":\"2072\",\"type\":\"LinearScale\"},{\"attributes\":{\"bottom_units\":\"screen\",\"fill_alpha\":{\"value\":0.5},\"fill_color\":{\"value\":\"lightgrey\"},\"left_units\":\"screen\",\"level\":\"overlay\",\"line_alpha\":{\"value\":1.0},\"line_color\":{\"value\":\"black\"},\"line_dash\":[4,4],\"line_width\":{\"value\":2},\"render_mode\":\"css\",\"right_units\":\"screen\",\"top_units\":\"screen\"},\"id\":\"2194\",\"type\":\"BoxAnnotation\"},{\"attributes\":{},\"id\":\"2191\",\"type\":\"UnionRenderers\"},{\"attributes\":{},\"id\":\"2084\",\"type\":\"PanTool\"},{\"attributes\":{},\"id\":\"2080\",\"type\":\"BasicTicker\"},{\"attributes\":{\"ticker\":{\"id\":\"2075\",\"type\":\"BasicTicker\"}},\"id\":\"2078\",\"type\":\"Grid\"},{\"attributes\":{\"callback\":null,\"data\":{\"x\":[0,1,2,3,4,5,6,7,8,9,10,11,12,13,14,15,16,17,18,19,20,21,22,23,24,25,26,27,28,29,30,31,32,33,34,35,36,37,38,39,40,41,42,43,44,45,46,47,48,49,50,51,52,53,54,55,56,57,58,59,60,61,62,63,64,65,66,67,68,69,70,71,72,73,74,75,76,77,78,79,80,81,82,83,84,85,86,87,88,89,90,91,92,93,94,95],\"y\":{\"__ndarray__\":\"BeLxxN5oO0Akb05froQxQNL5lXPOdTBA3GICpwzSL0DaU/aGkDUrQDzTU/2taS1ACm1SNIPyKUCrYxGaj88nQBrZW+sHAidAcpnDg6BHMECyl/HfURE5QPCozvYqVTxAbJscHdtGPECtfwDn/18+QFrPlMb9IDhAE33CAi0fNEA3Nn1uT/ktQBaDTb5V2CxAayrme6HTLEAZ8ZUnrekpQLFWaWLsIi1ARNdLdBI2MECXVNBhfKc4QI/B7X1oFztAIuypDwOBPEAGgt8KUR49QFb1jxGSSzpAhXbS6+S6MkAXJrYvXisvQPku50rrbixAVZzuZXCAKUCPSMrMu4gpQMovxU30RCtAHpC+KMX/L0CEZY32T8c2QB7hcsRzRzxAJeb+j7gHPUDYBc34CB88QH+2mwGq3DdAVoOsftftMECR+E8WQu8tQK7SYa7aQyxA9NOHR0V2KUDjsG6bLSEmQP3zdnxipChAHXnelXZ/LEBhkJE/Wgk0QFCOnxkGCzpAacoMI9ZQPED1xv/Twx87QCYhLow2ezVAhApQS1roLkB/Pl/tB+AoQJJc/kP6UShAeQLE0RPcJkA12bsWX3onQMq3Rh2AlShAEv7Bl/S9K0DkU/gaHw4zQNSa5h2nwTlApk/lk5mqP0DDKGtImt0+QGvVETQkADRAEg5B/mfXMEBVdm6YcFcsQEygDH6wJitAk0guQT4dJ0BoiQBtzFUoQAs6KeUYiSpAg9hfl132M0C0ILUFW7A7QGuLQv300z5AWFFJvo7OP0CjqvAETmQ9QFQcxUFb9DVAUdobfGG4MUCpsc5CTBkuQNonePEbxitASH0Gkn/nJ0A5YQSFKAgqQBq9XLwGLCtAaHhQ3DMtL0AQH/n/SFI3QN0LaeCJxzxAm6SequdUPkCnZO97ij48QLbsGHD5+TVANq49u5UOMkBg+JAJW9osQJcVkuWHXitAYLOW4cMJKkC5RexVXP8pQBxgYgNUCitA0pwGVh8JL0DtmD5kXwg4QJSFbZOj2D1A\",\"dtype\":\"float64\",\"shape\":[96]}},\"selected\":{\"id\":\"2190\",\"type\":\"Selection\"},\"selection_policy\":{\"id\":\"2191\",\"type\":\"UnionRenderers\"}},\"id\":\"2097\",\"type\":\"ColumnDataSource\"},{\"attributes\":{},\"id\":\"2188\",\"type\":\"BasicTickFormatter\"},{\"attributes\":{\"callback\":null,\"data\":{\"x\":[0,1,2,3,4,5,6,7,8,9,10,11,12,13,14,15,16,17,18,19,20,21,22,23,24,25,26,27,28,29,30,31,32,33,34,35,36,37,38,39,40,41,42,43,44,45,46,47,48,49,50,51,52,53,54,55,56,57,58,59,60,61,62,63,64,65,66,67,68,69,70,71,72,73,74,75,76,77,78,79,80,81,82,83,84,85,86,87,88,89,90,91,92,93,94,95],\"y\":{\"__ndarray__\":\"BeLxxN5oO0Akb05froQxQNL5lXPOdTBA3GICpwzSL0DaU/aGkDUrQDzTU/2taS1ACm1SNIPyKUCrYxGaj88nQBrZW+sHAidAcpnDg6BHMECyl/HfURE5QPCozvYqVTxAbJscHdtGPECtfwDn/18+QFrPlMb9IDhAE33CAi0fNEA3Nn1uT/ktQBaDTb5V2CxAayrme6HTLEAZ8ZUnrekpQLFWaWLsIi1ARNdLdBI2MECXVNBhfKc4QI/B7X1oFztAIuypDwOBPEAGgt8KUR49QFb1jxGSSzpAhXbS6+S6MkAXJrYvXisvQPku50rrbixAVZzuZXCAKUCPSMrMu4gpQMovxU30RCtAHpC+KMX/L0CEZY32T8c2QB7hcsRzRzxAJeb+j7gHPUDYBc34CB88QH+2mwGq3DdAVoOsftftMECR+E8WQu8tQK7SYa7aQyxA9NOHR0V2KUDjsG6bLSEmQP3zdnxipChAHXnelXZ/LEBhkJE/Wgk0QFCOnxkGCzpAacoMI9ZQPED1xv/Twx87QCYhLow2ezVAhApQS1roLkB/Pl/tB+AoQJJc/kP6UShAeQLE0RPcJkA12bsWX3onQMq3Rh2AlShAEv7Bl/S9K0DkU/gaHw4zQNSa5h2nwTlApk/lk5mqP0DDKGtImt0+QGvVETQkADRAEg5B/mfXMEBVdm6YcFcsQEygDH6wJitAk0guQT4dJ0BoiQBtzFUoQAs6KeUYiSpAg9hfl132M0C0ILUFW7A7QGuLQv300z5AWFFJvo7OP0CjqvAETmQ9QFQcxUFb9DVAUdobfGG4MUCpsc5CTBkuQNonePEbxitASH0Gkn/nJ0A5YQSFKAgqQBq9XLwGLCtAaHhQ3DMtL0AQH/n/SFI3QN0LaeCJxzxAm6SequdUPkCnZO97ij48QLbsGHD5+TVANq49u5UOMkBg+JAJW9osQJcVkuWHXitAYLOW4cMJKkC5RexVXP8pQBxgYgNUCitA0pwGVh8JL0DtmD5kXwg4QJSFbZOj2D1A\",\"dtype\":\"float64\",\"shape\":[96]}},\"selected\":{\"id\":\"2192\",\"type\":\"Selection\"},\"selection_policy\":{\"id\":\"2193\",\"type\":\"UnionRenderers\"}},\"id\":\"2102\",\"type\":\"ColumnDataSource\"},{\"attributes\":{\"fill_alpha\":{\"value\":0.1},\"fill_color\":{\"value\":\"#1f77b4\"},\"line_alpha\":{\"value\":0.1},\"line_color\":{\"value\":\"#1f77b4\"},\"x\":{\"field\":\"x\"},\"y\":{\"field\":\"y\"}},\"id\":\"2104\",\"type\":\"Scatter\"},{\"attributes\":{},\"id\":\"2070\",\"type\":\"LinearScale\"},{\"attributes\":{},\"id\":\"2190\",\"type\":\"Selection\"},{\"attributes\":{\"data_source\":{\"id\":\"2102\",\"type\":\"ColumnDataSource\"},\"glyph\":{\"id\":\"2103\",\"type\":\"Scatter\"},\"hover_glyph\":null,\"muted_glyph\":null,\"nonselection_glyph\":{\"id\":\"2104\",\"type\":\"Scatter\"},\"selection_glyph\":null,\"view\":{\"id\":\"2106\",\"type\":\"CDSView\"}},\"id\":\"2105\",\"type\":\"GlyphRenderer\"},{\"attributes\":{\"line_color\":\"#1f77b4\",\"line_width\":2,\"x\":{\"field\":\"x\"},\"y\":{\"field\":\"y\"}},\"id\":\"2098\",\"type\":\"Line\"},{\"attributes\":{\"fill_color\":{\"value\":\"#1f77b4\"},\"line_color\":{\"value\":\"#1f77b4\"},\"x\":{\"field\":\"x\"},\"y\":{\"field\":\"y\"}},\"id\":\"2103\",\"type\":\"Scatter\"},{\"attributes\":{\"axis_label\":\"\\u0412\\u0440\\u0435\\u043c\\u044f\",\"formatter\":{\"id\":\"2188\",\"type\":\"BasicTickFormatter\"},\"ticker\":{\"id\":\"2075\",\"type\":\"BasicTicker\"}},\"id\":\"2074\",\"type\":\"LinearAxis\"},{\"attributes\":{},\"id\":\"2085\",\"type\":\"WheelZoomTool\"},{\"attributes\":{},\"id\":\"2087\",\"type\":\"SaveTool\"},{\"attributes\":{},\"id\":\"2075\",\"type\":\"BasicTicker\"},{\"attributes\":{\"callback\":null},\"id\":\"2066\",\"type\":\"DataRange1d\"},{\"attributes\":{},\"id\":\"2089\",\"type\":\"HelpTool\"}],\"root_ids\":[\"2065\"]},\"title\":\"Bokeh Application\",\"version\":\"1.4.0\"}};\n",
              "  var render_items = [{\"docid\":\"5864a871-88a9-427d-a241-cca0c57c4e38\",\"roots\":{\"2065\":\"d42fba93-d084-41eb-bcba-a29c4fdbea36\"}}];\n",
              "  root.Bokeh.embed.embed_items_notebook(docs_json, render_items);\n",
              "\n",
              "  }\n",
              "  if (root.Bokeh !== undefined) {\n",
              "    embed_document(root);\n",
              "  } else {\n",
              "    var attempts = 0;\n",
              "    var timer = setInterval(function(root) {\n",
              "      if (root.Bokeh !== undefined) {\n",
              "        clearInterval(timer);\n",
              "        embed_document(root);\n",
              "      } else {\n",
              "        attempts++;\n",
              "        if (attempts > 100) {\n",
              "          clearInterval(timer);\n",
              "          console.log(\"Bokeh: ERROR: Unable to run BokehJS code because BokehJS library is missing\");\n",
              "        }\n",
              "      }\n",
              "    }, 10, root)\n",
              "  }\n",
              "})(window);"
            ],
            "application/vnd.bokehjs_exec.v0+json": ""
          },
          "metadata": {
            "tags": [],
            "application/vnd.bokehjs_exec.v0+json": {
              "id": "2065"
            }
          }
        },
        {
          "output_type": "display_data",
          "data": {
            "text/plain": [
              "<Figure size 432x288 with 0 Axes>"
            ]
          },
          "metadata": {
            "tags": []
          }
        }
      ]
    },
    {
      "cell_type": "markdown",
      "metadata": {
        "id": "9rC7lqafiCIV",
        "colab_type": "text"
      },
      "source": [
        "**4. Амплитудно-частотный спектр**"
      ]
    },
    {
      "cell_type": "code",
      "metadata": {
        "id": "4c0JGzl8gExV",
        "colab_type": "code",
        "colab": {}
      },
      "source": [
        "def fft_sample(signal, times, sampling_rate):\n",
        "    n = len(times) # число отсчетов в сигнале\n",
        " \n",
        "    k = np.arange(n)\n",
        "    T = n / sampling_rate\n",
        " \n",
        "    frq = (k / T)[range(n // 2)] # диапазон частот в спектре\n",
        " \n",
        "    # применение быстрого преобразования Фурье \n",
        "    # (Fast Fourier Transform) с нормализацией\n",
        "    fft_output = np.fft.fft(signal) / n \n",
        " \n",
        "    # достаточно половины спектра, поэтому половину обрежем\n",
        "    # , а оставшуюся умножим на два\n",
        "    fft_output = fft_output[range(n // 2)]\n",
        "    fft_output[1 : ] *= 2\n",
        " \n",
        "    # построение графиков\n",
        " \n",
        "    # 2 строки и 1 столбец - графики будут друг по другом\n",
        "    fig, ax = plt.subplots(2, 1, figsize = (20, 8)) \n",
        "    \n",
        "    # верхний график - исходный сигнал\n",
        "    # по оси абсцисс - время\n",
        "    # по оси ординат - сигнал\n",
        "    ax[0].plot(times, signal, 'blue')\n",
        "    ax[0].set_xlabel('Time') \n",
        "    ax[0].set_ylabel('Amplitude')\n",
        "    ax[0].grid(True)\n",
        " \n",
        "    # нижний - амплитудный спектр\n",
        "    # по оси абсцисс - частота\n",
        "    # по оси ординат - амплитуда соответствующих гармоник\n",
        "    ax[1].stem(frq, abs(fft_output), 'red')\n",
        "    ax[1].set_xlabel('Freq (Hz)')\n",
        "    ax[1].set_ylabel('|A(freq)|')\n",
        " \n",
        "    # цену деления оси нужно подбирать\n",
        "    ax[1].xaxis.set_major_locator(ticker.MultipleLocator(0.05))\n",
        "    ax[1].xaxis.set_minor_locator(ticker.MultipleLocator(0.01))\n",
        "    ax[1].yaxis.set_major_locator(ticker.MultipleLocator(5))\n",
        "    ax[1].yaxis.set_minor_locator(ticker.MultipleLocator(5))\n",
        "    ax[1].grid(True)\n",
        " \n",
        "    plt.show()"
      ],
      "execution_count": 0,
      "outputs": []
    },
    {
      "cell_type": "code",
      "metadata": {
        "id": "ydPhfvk0ibtP",
        "colab_type": "code",
        "outputId": "51638fd9-8fb9-451e-e742-e1d0b43a1ab7",
        "colab": {
          "base_uri": "https://localhost:8080/",
          "height": 551
        }
      },
      "source": [
        "signal = pamir\n",
        "sampling_rate = 1  # частота записи данных \n",
        "time_interval = 1 / sampling_rate # шаг по времени между сэмплами (точками, отсчетами)\n",
        " \n",
        "# генерация ряда таймстампов \n",
        "times = np.arange(0, len(pamir), time_interval) \n",
        " \n",
        "fft_sample(signal, times, sampling_rate)\n",
        "\n",
        "plt.savefig('amp_frq')"
      ],
      "execution_count": 0,
      "outputs": [
        {
          "output_type": "stream",
          "text": [
            "/usr/local/lib/python3.6/dist-packages/ipykernel_launcher.py:34: UserWarning: In Matplotlib 3.3 individual lines on a stem plot will be added as a LineCollection instead of individual lines. This significantly improves the performance of a stem plot. To remove this warning and switch to the new behaviour, set the \"use_line_collection\" keyword argument to True.\n"
          ],
          "name": "stderr"
        },
        {
          "output_type": "display_data",
          "data": {
            "image/png": "[encoded data removed]",
            "text/plain": [
              "<Figure size 1440x576 with 2 Axes>"
            ]
          },
          "metadata": {
            "tags": [],
            "needs_background": "light"
          }
        },
        {
          "output_type": "display_data",
          "data": {
            "text/plain": [
              "<Figure size 432x288 with 0 Axes>"
            ]
          },
          "metadata": {
            "tags": []
          }
        }
      ]
    }
  ]
}